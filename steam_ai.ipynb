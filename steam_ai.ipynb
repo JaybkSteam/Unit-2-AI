{
 "cells": [
  {
   "cell_type": "code",
   "execution_count": null,
   "metadata": {},
   "outputs": [],
   "source": [
    "import gpt_2_simple as gpt2"
   ]
  },
  {
   "cell_type": "code",
   "execution_count": null,
   "metadata": {},
   "outputs": [],
   "source": [
    "session = gpt2.start_tf_sess()\n",
    "gpt2.finetune(\n",
    "    session, \"steam.txt\", model_name=\"124M\", steps=100, run_name='steam'\n",
    ")"
   ]
  },
  {
   "cell_type": "code",
   "execution_count": null,
   "metadata": {},
   "outputs": [],
   "source": [
    "gpt2.finetune(\n",
    "    session, \"steam.txt\", model_name=\"124M\", steps=100, run_name='steam'\n",
    ")"
   ]
  },
  {
   "cell_type": "code",
   "execution_count": 4,
   "metadata": {},
   "outputs": [
    {
     "name": "stdout",
     "output_type": "stream",
     "text": [
      "What should I do if I have any questions or concerns?\n",
      "A: We have two recommendations, speak to your home based counselor and/or email our contact form if there is a problem.\n",
      "\n",
      "Q: What should I be looking at to start my journey in understanding the STEAM model?\n",
      "A: We recommend checking out our Playbook as the prime source that breaks down our model for different audiences.\n",
      "\n",
      "Q:Do you do tours?\n",
      "A:Yes, please reach out via our contact form to request a tour. \n",
      "\n",
      "Q:I want to spend a whole day with you to really learn about your model, is something like that possible?\n",
      "A:Inspiration visits are possible, for individuals and teams, which can span several hours or days. Please reach out to us so that we can collaborate on bringing that vision to life.\n",
      "\n",
      "Q:Is there a fee for these explorations?\n",
      "A:It depends, we want to share our model as much as we can, and based on our conversation about collaboration, deep engagements may have a small fee. Rest assured these funds are used to add to our scholar compensation fund for our internship program.\n",
      "\n",
      "Q:When do the Brooklyn STEAM Center programs occur?\n",
      "A:The Brooklyn STEAM Center programs occur during the regular school day, in the morning for Year 2 scholars and in the afternoon for Year 1 scholars. We operate the same days as the partner high school, offering instruction five days a week for 2.5 hours each day.\n",
      "\n",
      "Q:Wait a second, you said that students will be splitting their day, what does that mean?\n",
      "A:The Brooklyn STEAM Center is located on the Brooklyn Navy Yard, which is geographically separate from all of our partner high schools. Scholars in our program spend half of their school day with us and the other half at their home high school. We provide complimentary yellow bus shuttles during the middle of the day for scholars to travel between the two locations to ensure punctuality and avoid harsh weather.\n",
      "\n",
      "Q:How does this impact my high school graduation requirements?\n",
      "A:Our CTE Programs actually enable scholars to reduce their required 6 credits of LOTE (Language Other Than English) to 2 credits. In addition, we provide 13 elective credits (five more than required) on a scholar’s transcript that will heighten their GPA and stand out to colleges. In addition, we offer a bonus credit course for our internship program. Furthermore, scholars qualify for advanced annotations on their high school diplomas for the successful completion of our program.\n",
      "\n",
      "Q:This sounds great, but how much does it cost?\n",
      "A:The Brooklyn STEAM Center is operated by the New York City Department of Education, therefore as a public school, there is NO cost for scholars to attend. We cover the cost of all equipment, supplies, and fees.\n",
      "\n",
      "Q:How can I find out more about the Brooklyn STEAM Center?\n",
      "A:A typical first step is to speak to your school’s counselor. Scholars accepted into the cohort will be able to visit the Brooklyn STEAM Center, once in Grade 9 and again in Grade 10, for specific guided tours. In addition, we offer exploratory opportunities for potential applicants to ‘try it on’ with our instructors during Grade 10. We also conduct a Brooklyn Navy Yard tour to meet our business partners in Grade 9. Private tours are available upon request.\n",
      "\n",
      "Q:Do I need to be a certain “type” of student to be accepted?\n",
      "A:No. We accept students from all eight of our partner schools in an unbiased manner. We do not screen based on grades, demographics, special education, or language proficiency status. If you have concerns about a specific scholar limitation and being able to participate please let us know, we believe that anyone can learn!\n",
      "\n",
      "Q:Can Grade 11/12 students apply to the Brooklyn STEAM Center? \n",
      "A:Usually, the answer to this question would be “No”. However, with proper advocacy and support from the partner high school, there may be opportunities for scholars to enter as a Year 2 student based on availability.\n",
      "\n",
      "Q:Beyond the coursework, what else does the Brooklyn STEAM Center provide?\n",
      "A:Scholars are eligible for paid internships with one of our industry partners, prior learning credits and/or priority admission with our partner colleges, access to free testing for industry-recognized credentials, and a supportive community that is built around working with our scholars for their future.\n",
      "\n",
      "Q:How/When do I decide which CTE pathway I want to study? Can I choose more than one?\n",
      "A:You will rank all of the CTE Programs on the supplemental application that you will complete near the end of Grade 10. Scholars typically attain their first choice. Unfortunately, our programs are designed for two full years of instruction, which means you can only enroll in one program.\n",
      "\n",
      "Q:How\n"
     ]
    }
   ],
   "source": [
    "gpt2.generate(session, prefix='What should I do if I have any questions or concerns?')"
   ]
  }
 ],
 "metadata": {
  "kernelspec": {
   "display_name": "Python 3",
   "language": "python",
   "name": "python3"
  },
  "language_info": {
   "codemirror_mode": {
    "name": "ipython",
    "version": 3
   },
   "file_extension": ".py",
   "mimetype": "text/x-python",
   "name": "python",
   "nbconvert_exporter": "python",
   "pygments_lexer": "ipython3",
   "version": "3.10.9 (main, Dec 15 2022, 10:44:50) [Clang 14.0.0 (clang-1400.0.29.202)]"
  },
  "orig_nbformat": 4,
  "vscode": {
   "interpreter": {
    "hash": "b0fa6594d8f4cbf19f97940f81e996739fb7646882a419484c72d19e05852a7e"
   }
  }
 },
 "nbformat": 4,
 "nbformat_minor": 2
}
